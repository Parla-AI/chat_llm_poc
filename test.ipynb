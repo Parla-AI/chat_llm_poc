{
 "cells": [
  {
   "cell_type": "code",
   "execution_count": 6,
   "metadata": {},
   "outputs": [],
   "source": [
    "import requests\n",
    "r = requests.get('https://v6.exchangerate-api.com/v6/1687afda6bf8fa4663269c41/pair/COP/USD')\n",
    "r.status_code\n",
    "import uuid"
   ]
  },
  {
   "cell_type": "code",
   "execution_count": 13,
   "metadata": {},
   "outputs": [],
   "source": [
    "def generate_session_id():\n",
    "    return str(uuid.uuid4())\n",
    "\n",
    "def model_qa(message, session_id):\n",
    "    # URL de la API que deseas utilizar\n",
    "    api_url = \"http://127.0.0.1:8001/chat/v1\"\n",
    "    print(f\"sessionId: {session_id}\")\n",
    "    # Payload de la solicitud POST, ajusta según los parámetros necesarios para tu API\n",
    "    payload = {\n",
    "                \"user_input\":message,\n",
    "               \"session_id\":session_id\n",
    "               }\n",
    "    response = requests.post(api_url, json=payload)\n",
    "    \n",
    "        # Verificar que la solicitud fue exitosa\n",
    "    if response.status_code == 200:\n",
    "        response_data = response.json()\n",
    "        # Extraer la respuesta del modelo, ajusta según la estructura de la respuesta de tu API\n",
    "        answer = response_data.get(\"message\")\n",
    "        return answer\n",
    "    else:\n",
    "        # Manejo de errores\n",
    "        print(f\"Error: {response.status_code} - {response.text}\")\n",
    "        return None"
   ]
  },
  {
   "cell_type": "code",
   "execution_count": 14,
   "metadata": {},
   "outputs": [
    {
     "name": "stdout",
     "output_type": "stream",
     "text": [
      "sessionId: 42b4ba69-b38b-456c-a605-2ac4570b2359\n"
     ]
    }
   ],
   "source": [
    "model_qa(\"hola como estas\",generate_session_id())"
   ]
  },
  {
   "cell_type": "code",
   "execution_count": null,
   "metadata": {},
   "outputs": [],
   "source": []
  }
 ],
 "metadata": {
  "kernelspec": {
   "display_name": "Python 3",
   "language": "python",
   "name": "python3"
  },
  "language_info": {
   "codemirror_mode": {
    "name": "ipython",
    "version": 3
   },
   "file_extension": ".py",
   "mimetype": "text/x-python",
   "name": "python",
   "nbconvert_exporter": "python",
   "pygments_lexer": "ipython3",
   "version": "3.9.19"
  }
 },
 "nbformat": 4,
 "nbformat_minor": 2
}
